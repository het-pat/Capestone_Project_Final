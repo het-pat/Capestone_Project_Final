{
    "cells": [
        {
            "cell_type": "markdown",
            "metadata": {
                "collapsed": true
            },
            "source": "The battle of Neighborhoods\u00b6\nWeek 4: Part b) -\nTitle: Restaurant recommender system in New York\nData requirements:\nTo find a solution to the questions and build a recommender model, we need data and lots of data. Data can answer question which are unimaginable and non answerable by humans because humans do not have the tendency to analyze such large dataset and produce analytics to find a solutions.\nLet's consider the base scenario:\nSuppose I want to find a restaurant, then logically, I need:                                                               \nIts geographical coordinates(latitude and longitude) to find out where exactly it is located.\n\nTo access location of a restaurant, its Latitude and Longitude is to be known so that we can point at its coordinates and create a map displaying all the restaurants with its labels respectively.\n\nData collection :\n\nFor this project I used this dataset of New York City\nhttps://geo.nyu.edu/catalog/nyu_2451_34572\n\n"
        }
    ],
    "metadata": {
        "kernelspec": {
            "display_name": "Python 3.6",
            "language": "python",
            "name": "python3"
        },
        "language_info": {
            "codemirror_mode": {
                "name": "ipython",
                "version": 3
            },
            "file_extension": ".py",
            "mimetype": "text/x-python",
            "name": "python",
            "nbconvert_exporter": "python",
            "pygments_lexer": "ipython3",
            "version": "3.6.9"
        }
    },
    "nbformat": 4,
    "nbformat_minor": 1
}